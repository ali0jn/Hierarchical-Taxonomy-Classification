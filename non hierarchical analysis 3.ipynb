{
 "cells": [
  {
   "cell_type": "code",
   "execution_count": 1,
   "metadata": {},
   "outputs": [],
   "source": [
    "import pandas as pd\n",
    "import numpy as np\n",
    "import warnings\n",
    "warnings.simplefilter('ignore')"
   ]
  },
  {
   "cell_type": "code",
   "execution_count": 2,
   "metadata": {},
   "outputs": [],
   "source": [
    "from sklearn.preprocessing import StandardScaler\n",
    "from sklearn.svm import SVC\n",
    "from sklearn.ensemble import RandomForestClassifier\n",
    "from sklearn.model_selection import StratifiedKFold, train_test_split\n",
    "from sklearn.metrics import f1_score\n",
    "import json"
   ]
  },
  {
   "cell_type": "code",
   "execution_count": 3,
   "metadata": {},
   "outputs": [],
   "source": [
    "def get_acc_scores(X, y):\n",
    "    skf = StratifiedKFold(n_splits=10, random_state=0, shuffle=True)\n",
    "    acc_scores = {'rf test': [], 'rf train': []}\n",
    "    for train_index, test_index in skf.split(X, y):\n",
    "        X_train, X_test = X.iloc[train_index, :], X.iloc[test_index, :]\n",
    "        y_train, y_test = y.iloc[train_index, :], y.iloc[test_index, :]\n",
    "        rf = RandomForestClassifier(n_estimators=10, n_jobs=-1)\n",
    "        rf.fit(X_train, y_train)\n",
    "        rf_test = rf.score(X_test, y_test)\n",
    "        rf_train = rf.score(X_train, y_train)\n",
    "        acc_scores['rf test'].append(rf_test)\n",
    "        acc_scores['rf train'].append(rf_train)\n",
    "    return acc_scores "
   ]
  },
  {
   "cell_type": "code",
   "execution_count": 4,
   "metadata": {},
   "outputs": [],
   "source": [
    "def main(class_, name):\n",
    "    clfs_acc = {}\n",
    "    for i in range(1, len(class_)+1):\n",
    "        X = class_[i-1].iloc[:, 3:]\n",
    "        features = X.columns\n",
    "        sc = StandardScaler()\n",
    "        X = sc.fit_transform(X)\n",
    "        y = pd.DataFrame(class_[i-1].iloc[:, 2])\n",
    "        X = pd.DataFrame(X, columns=features)\n",
    "        clfs_acc[name+'.k'+str(i)] = get_acc_scores(X, y)\n",
    "    return clfs_acc"
   ]
  },
  {
   "cell_type": "code",
   "execution_count": 5,
   "metadata": {},
   "outputs": [],
   "source": [
    "def combine_dataset():\n",
    "    dataFrames = []\n",
    "    for i in range(1, 8):\n",
    "        chirop_df = pd.read_csv('datasets/Chiroptera.Cleaned.k' + str(i) + '.csv')\n",
    "        rodent_df = pd.read_csv('datasets/Rodentia.Cleaned.k' + str(i) + '.csv')\n",
    "        aves_df = pd.read_csv('datasets/Aves.Cleaned.k' + str(i) + '.csv')\n",
    "        frames = [chirop_df, rodent_df, aves_df]\n",
    "        merged_df = pd.concat(frames)\n",
    "        merged_df.index = range(len(merged_df))\n",
    "        dataFrames.append(merged_df)\n",
    "    return dataFrames"
   ]
  },
  {
   "cell_type": "code",
   "execution_count": 7,
   "metadata": {},
   "outputs": [],
   "source": [
    "merged_dfs = combine_dataset()"
   ]
  },
  {
   "cell_type": "code",
   "execution_count": 8,
   "metadata": {},
   "outputs": [],
   "source": [
    "with open('non hierarchical merged.json', 'w') as fr:\n",
    "    json.dump(main(merged_dfs, 'non hierarchical merged'), fr)"
   ]
  },
  {
   "cell_type": "code",
   "execution_count": null,
   "metadata": {},
   "outputs": [],
   "source": []
  }
 ],
 "metadata": {
  "kernelspec": {
   "display_name": "Python 3",
   "language": "python",
   "name": "python3"
  },
  "language_info": {
   "codemirror_mode": {
    "name": "ipython",
    "version": 3
   },
   "file_extension": ".py",
   "mimetype": "text/x-python",
   "name": "python",
   "nbconvert_exporter": "python",
   "pygments_lexer": "ipython3",
   "version": "3.5.3"
  }
 },
 "nbformat": 4,
 "nbformat_minor": 2
}
