{
 "cells": [
  {
   "cell_type": "markdown",
   "metadata": {},
   "source": [
    "### Importing Modules"
   ]
  },
  {
   "cell_type": "code",
   "execution_count": 1,
   "metadata": {
    "colab": {},
    "colab_type": "code",
    "id": "mTjpKvEZwKhn"
   },
   "outputs": [],
   "source": [
    "import numpy as np\n",
    "import pandas as pd\n",
    "from sklearn.preprocessing import StandardScaler\n",
    "import pickle\n",
    "\n",
    "# Scores\n",
    "from sklearn.model_selection import StratifiedKFold\n",
    "\n",
    "# Classifiers\n",
    "from sklearn.svm import SVC\n",
    "from sklearn.ensemble import RandomForestClassifier\n",
    "\n",
    "# Ignoring Errors\n",
    "import warnings\n",
    "warnings.simplefilter('ignore')"
   ]
  },
  {
   "cell_type": "code",
   "execution_count": 2,
   "metadata": {},
   "outputs": [],
   "source": [
    "def find_predictions(k, data):\n",
    "    hierarchical_svm_train, hierarchical_svm_test = [], []\n",
    "    hierarchical_rf_train, hierarchical_rf_test = [], []\n",
    "    single_rf_train, single_rf_test = [], []\n",
    "    \n",
    "    std = StandardScaler()\n",
    "    X = np.array(data.iloc[:,2:]) # X is the barcode sequences\n",
    "    X = std.fit_transform(X)\n",
    "    species = np.ravel(data.iloc[:,1])\n",
    "    y = np.ravel(data.iloc[:,0]) # y is the taxonomic classes\n",
    "\n",
    "    kf = StratifiedKFold(10, random_state=0, shuffle=True)\n",
    "    \n",
    "    for train_index, test_index in kf.split(X, species):\n",
    "        predictions_train_linear_svm, predictions_test_linear_svm = [], []\n",
    "        predictions_train_single_rf, predictions_test_single_rf = [], []\n",
    "        predictions_train_hier_rf, predictions_test_hier_rf = [], []\n",
    "        \n",
    "        X_train, X_test = X[train_index], X[test_index]\n",
    "        y_train, y_test = y[train_index], y[test_index]\n",
    "        species_train, species_test = species[train_index], species[test_index]\n",
    "        \n",
    "        \n",
    "        # Keeping Taxonomy and Species Classes\n",
    "        Aves_train = X_train[y_train == 'Aves',:]\n",
    "        Aves_test = X_test[y_test == 'Aves',:]\n",
    "        \n",
    "        Chiroptera_train = X_train[y_train == 'Chiroptera',:]\n",
    "        Chiroptera_test = X_test[y_test == 'Chiroptera',:]\n",
    "        \n",
    "        Rodentia_train = X_train[y_train == 'Rodentia',:]\n",
    "        Rodentia_test = X_test[y_test == 'Rodentia',:]\n",
    "        \n",
    "        species_train_aves = species_train[y_train == 'Aves']\n",
    "        species_train_chiroptera = species_train[y_train == 'Chiroptera']\n",
    "        species_train_rodentia = species_train[y_train == 'Rodentia']\n",
    "        \n",
    "        \n",
    "        # Classifiers ---------------------------------------------------------------------\n",
    "        # Linear Svm\n",
    "        linear_svm_taxonomy = SVC(gamma=1/X_train.shape[0],\n",
    "                    kernel=\"linear\", probability=True, random_state=0)\n",
    "        linear_svm_taxonomy.fit(X_train, y_train)\n",
    "        \n",
    "        linear_svm_aves = SVC(gamma=1/Aves_train.shape[0],\n",
    "                kernel=\"linear\", probability=True, random_state=0)\n",
    "        linear_svm_aves.fit(Aves_train, species_train_aves)\n",
    "        \n",
    "        linear_svm_chiroptera = SVC(gamma=1/Chiroptera_train.shape[0],\n",
    "                kernel=\"linear\", probability=True, random_state=0)\n",
    "        linear_svm_chiroptera.fit(Chiroptera_train, species_train_chiroptera)\n",
    "            \n",
    "        linear_svm_rodentia = SVC(gamma=1/Rodentia_train.shape[0],\n",
    "                kernel=\"linear\", probability=True, random_state=0)\n",
    "        linear_svm_rodentia.fit(Rodentia_train, species_train_rodentia)\n",
    "        \n",
    "        # Random Forests\n",
    "        \n",
    "        single_rf = RandomForestClassifier(n_estimators=10, n_jobs=-1)\n",
    "        single_rf.fit(X_train, species_train)\n",
    "        \n",
    "        \n",
    "        hierarchical_rf_taxonomy = RandomForestClassifier(n_estimators=10, n_jobs=-1)\n",
    "        hierarchical_rf_taxonomy.fit(X_train, y_train)\n",
    "        \n",
    "        hierarchical_rf_aves = RandomForestClassifier(n_estimators=10, n_jobs=-1)\n",
    "        hierarchical_rf_aves.fit(Aves_train, species_train_aves)\n",
    "        \n",
    "        hierarchical_rf_chiroptera = RandomForestClassifier(n_estimators=10, n_jobs=-1)\n",
    "        hierarchical_rf_chiroptera.fit(Chiroptera_train, species_train_chiroptera)\n",
    "        \n",
    "        hierarchical_rf_rodentia = RandomForestClassifier(n_estimators=10, n_jobs=-1)\n",
    "        hierarchical_rf_rodentia.fit(Rodentia_train, species_train_rodentia)\n",
    "    \n",
    "        \n",
    "        y_pred_train_linear = linear_svm_taxonomy.predict(X_train)\n",
    "        y_pred_test_linear = linear_svm_taxonomy.predict(X_test)\n",
    "        \n",
    "        predictions_train_single_rf = single_rf.predict(X_train)\n",
    "        predictions_test_single_rf = single_rf.predict(X_test)\n",
    "        \n",
    "        y_pred_train_hier_rf = hierarchical_rf_taxonomy.predict(X_train)\n",
    "        y_pred_test_hier_rf = hierarchical_rf_taxonomy.predict(X_test)\n",
    "        \n",
    "        \n",
    "        # Predict the Species --------------------------------------------------------------\n",
    "        for idx in range(X_train.shape[0]):\n",
    "            # Hierarchical Svm\n",
    "            if y_pred_train_linear[idx] == 'Aves':\n",
    "                y_pred_train_species = linear_svm_aves.predict(X_train[idx, :].reshape(1,-1))\n",
    "                predictions_train_linear_svm.append(y_pred_train_species)\n",
    "                \n",
    "            elif y_pred_train_linear[idx] == 'Chiroptera':\n",
    "                \n",
    "                y_pred_train_species = linear_svm_chiroptera.predict(X_train[idx, :].reshape(1,-1))\n",
    "                predictions_train_linear_svm.append(y_pred_train_species)\n",
    "                \n",
    "            elif y_pred_train_linear[idx] == 'Rodentia':\n",
    "                \n",
    "                y_pred_train_species = linear_svm_rodentia.predict(X_train[idx, :].reshape(1,-1))\n",
    "                predictions_train_linear_svm.append(y_pred_train_species)\n",
    "            \n",
    "            # Hiearachical Rf\n",
    "            if y_pred_train_hier_rf[idx] == 'Aves':\n",
    "                y_pred_train_species = hierarchical_rf_aves.predict(X_train[idx, :].reshape(1,-1))\n",
    "                predictions_train_hier_rf.append(y_pred_train_species)\n",
    "                \n",
    "            elif y_pred_train_hier_rf[idx] == 'Chiroptera':\n",
    "                \n",
    "                y_pred_train_species = hierarchical_rf_chiroptera.predict(X_train[idx, :].reshape(1,-1))\n",
    "                predictions_train_hier_rf.append(y_pred_train_species)\n",
    "                \n",
    "            elif y_pred_train_hier_rf[idx] == 'Rodentia':\n",
    "                \n",
    "                y_pred_train_species = hierarchical_rf_rodentia.predict(X_train[idx, :].reshape(1,-1))\n",
    "                predictions_train_hier_rf.append(y_pred_train_species)\n",
    "            \n",
    "            if idx < X_test.shape[0]:\n",
    "                # Hierarchical SVM species predictions\n",
    "                if y_pred_test_linear[idx] == 'Aves':\n",
    "                \n",
    "                    y_pred_test_species = linear_svm_aves.predict(X_test[idx, :].reshape(1,-1))\n",
    "                    predictions_test_linear_svm.append(y_pred_test_species)\n",
    "                \n",
    "                elif y_pred_test_linear[idx] == 'Chiroptera':\n",
    "\n",
    "                    y_pred_test_species = linear_svm_chiroptera.predict(X_test[idx, :].reshape(1,-1))\n",
    "                    predictions_test_linear_svm.append(y_pred_test_species)\n",
    "\n",
    "                elif y_pred_test_linear[idx] == 'Rodentia':\n",
    "\n",
    "                    y_pred_test_species = linear_svm_rodentia.predict(X_test[idx, :].reshape(1,-1))\n",
    "                    predictions_test_linear_svm.append(y_pred_test_species)\n",
    "                \n",
    "                # Hierarchical Rf species predictions\n",
    "                    \n",
    "                if y_pred_test_hier_rf[idx] == 'Aves':\n",
    "                    \n",
    "                    y_pred_test_species = hierarchical_rf_aves.predict(X_test[idx, :].reshape(1,-1))\n",
    "                    predictions_test_hier_rf.append(y_pred_test_species)\n",
    "                \n",
    "                elif y_pred_test_hier_rf[idx] == 'Chiroptera':\n",
    "\n",
    "                    y_pred_test_species = hierarchical_rf_chiroptera.predict(X_test[idx, :].reshape(1,-1))\n",
    "                    predictions_test_hier_rf.append(y_pred_test_species)\n",
    "\n",
    "                elif y_pred_test_hier_rf[idx] == 'Rodentia':\n",
    "\n",
    "                    y_pred_test_species = hierarchical_rf_rodentia.predict(X_test[idx, :].reshape(1,-1))\n",
    "                    predictions_test_hier_rf.append(y_pred_test_species)\n",
    "                \n",
    "        # Appending each fold to corresponging data structure\n",
    "        hierarchical_svm_train.append((species_train, predictions_train_linear_svm)) # true, predicted\n",
    "        hierarchical_svm_test.append((species_test, predictions_test_linear_svm))\n",
    "        \n",
    "        hierarchical_rf_train.append((species_train, predictions_train_hier_rf)) # true, predicted\n",
    "        hierarchical_rf_test.append((species_test, predictions_test_hier_rf))\n",
    "        \n",
    "        single_rf_train.append((species_train, predictions_train_single_rf)) # true, predicted\n",
    "        single_rf_test.append((species_test, predictions_test_single_rf))\n",
    "\n",
    "    \n",
    "    return {'linearsvm':{'train':hierarchical_svm_train, 'test':hierarchical_svm_test},\n",
    "            'singlerf':{'train':single_rf_train, 'test':single_rf_test},\n",
    "            'hierarchicalrf':{'train':hierarchical_rf_train, 'test':hierarchical_rf_test}}"
   ]
  },
  {
   "cell_type": "markdown",
   "metadata": {},
   "source": [
    "### Starting to Robustness Analysis"
   ]
  },
  {
   "cell_type": "code",
   "execution_count": 3,
   "metadata": {
    "colab": {
     "base_uri": "https://localhost:8080/",
     "height": 357
    },
    "colab_type": "code",
    "executionInfo": {
     "elapsed": 778744,
     "status": "error",
     "timestamp": 1577679159560,
     "user": {
      "displayName": "Huzeyfe Ayaz",
      "photoUrl": "https://lh3.googleusercontent.com/a-/AAuE7mABLAzm5JK_CnqTUmdKH5HwVCZ4l0oXPSxpKTSz=s64",
      "userId": "09330556348955103282"
     },
     "user_tz": -180
    },
    "id": "iQVSRtTN2Hee",
    "outputId": "77ac189c-828f-4d43-9ea5-d33879c2108a",
    "scrolled": true
   },
   "outputs": [
    {
     "name": "stdout",
     "output_type": "stream",
     "text": [
      "6\n"
     ]
    },
    {
     "ename": "KeyboardInterrupt",
     "evalue": "",
     "output_type": "error",
     "traceback": [
      "\u001b[1;31m---------------------------------------------------------------------------\u001b[0m",
      "\u001b[1;31mKeyboardInterrupt\u001b[0m                         Traceback (most recent call last)",
      "\u001b[1;32m<ipython-input-3-fbfb4d149db3>\u001b[0m in \u001b[0;36m<module>\u001b[1;34m()\u001b[0m\n\u001b[0;32m      3\u001b[0m     \u001b[0mmutation_file\u001b[0m \u001b[1;33m=\u001b[0m \u001b[0mpd\u001b[0m\u001b[1;33m.\u001b[0m\u001b[0mread_csv\u001b[0m\u001b[1;33m(\u001b[0m\u001b[1;34m\"mutated-kmerized-datasets/7kmerized.mutated.0.{}.csv\"\u001b[0m\u001b[1;33m.\u001b[0m\u001b[0mformat\u001b[0m\u001b[1;33m(\u001b[0m\u001b[0mk\u001b[0m\u001b[1;33m)\u001b[0m\u001b[1;33m)\u001b[0m\u001b[1;33m\u001b[0m\u001b[0m\n\u001b[0;32m      4\u001b[0m     \u001b[0mmutation_file\u001b[0m \u001b[1;33m=\u001b[0m \u001b[0mmutation_file\u001b[0m\u001b[1;33m.\u001b[0m\u001b[0mdrop\u001b[0m\u001b[1;33m(\u001b[0m\u001b[1;33m[\u001b[0m\u001b[1;34m\"mutated nucleotide\"\u001b[0m\u001b[1;33m]\u001b[0m\u001b[1;33m,\u001b[0m \u001b[1;36m1\u001b[0m\u001b[1;33m)\u001b[0m\u001b[1;33m.\u001b[0m\u001b[0mdropna\u001b[0m\u001b[1;33m(\u001b[0m\u001b[0maxis\u001b[0m\u001b[1;33m=\u001b[0m\u001b[1;36m0\u001b[0m\u001b[1;33m)\u001b[0m\u001b[1;33m\u001b[0m\u001b[0m\n\u001b[1;32m----> 5\u001b[1;33m     \u001b[0mpredictions\u001b[0m \u001b[1;33m=\u001b[0m \u001b[0mfind_predictions\u001b[0m\u001b[1;33m(\u001b[0m\u001b[0mk\u001b[0m\u001b[1;33m,\u001b[0m \u001b[0mmutation_file\u001b[0m\u001b[1;33m)\u001b[0m\u001b[1;33m\u001b[0m\u001b[0m\n\u001b[0m\u001b[0;32m      6\u001b[0m     \u001b[0mmutation_predictions\u001b[0m\u001b[1;33m[\u001b[0m\u001b[0mstr\u001b[0m\u001b[1;33m(\u001b[0m\u001b[0mk\u001b[0m\u001b[1;33m)\u001b[0m\u001b[1;33m]\u001b[0m \u001b[1;33m=\u001b[0m \u001b[0mpredictions\u001b[0m\u001b[1;33m\u001b[0m\u001b[0m\n\u001b[0;32m      7\u001b[0m     \u001b[0mprint\u001b[0m\u001b[1;33m(\u001b[0m\u001b[0mk\u001b[0m\u001b[1;33m)\u001b[0m\u001b[1;33m\u001b[0m\u001b[0m\n",
      "\u001b[1;32m<ipython-input-2-0d9e3ca1f573>\u001b[0m in \u001b[0;36mfind_predictions\u001b[1;34m(k, data)\u001b[0m\n\u001b[0;32m     49\u001b[0m         linear_svm_chiroptera = SVC(gamma=1/Chiroptera_train.shape[0],\n\u001b[0;32m     50\u001b[0m                 kernel=\"linear\", probability=True, random_state=0)\n\u001b[1;32m---> 51\u001b[1;33m         \u001b[0mlinear_svm_chiroptera\u001b[0m\u001b[1;33m.\u001b[0m\u001b[0mfit\u001b[0m\u001b[1;33m(\u001b[0m\u001b[0mChiroptera_train\u001b[0m\u001b[1;33m,\u001b[0m \u001b[0mspecies_train_chiroptera\u001b[0m\u001b[1;33m)\u001b[0m\u001b[1;33m\u001b[0m\u001b[0m\n\u001b[0m\u001b[0;32m     52\u001b[0m \u001b[1;33m\u001b[0m\u001b[0m\n\u001b[0;32m     53\u001b[0m         linear_svm_rodentia = SVC(gamma=1/Rodentia_train.shape[0],\n",
      "\u001b[1;32mc:\\python\\python35\\lib\\site-packages\\sklearn\\svm\\base.py\u001b[0m in \u001b[0;36mfit\u001b[1;34m(self, X, y, sample_weight)\u001b[0m\n\u001b[0;32m    185\u001b[0m \u001b[1;33m\u001b[0m\u001b[0m\n\u001b[0;32m    186\u001b[0m         \u001b[0mseed\u001b[0m \u001b[1;33m=\u001b[0m \u001b[0mrnd\u001b[0m\u001b[1;33m.\u001b[0m\u001b[0mrandint\u001b[0m\u001b[1;33m(\u001b[0m\u001b[0mnp\u001b[0m\u001b[1;33m.\u001b[0m\u001b[0miinfo\u001b[0m\u001b[1;33m(\u001b[0m\u001b[1;34m'i'\u001b[0m\u001b[1;33m)\u001b[0m\u001b[1;33m.\u001b[0m\u001b[0mmax\u001b[0m\u001b[1;33m)\u001b[0m\u001b[1;33m\u001b[0m\u001b[0m\n\u001b[1;32m--> 187\u001b[1;33m         \u001b[0mfit\u001b[0m\u001b[1;33m(\u001b[0m\u001b[0mX\u001b[0m\u001b[1;33m,\u001b[0m \u001b[0my\u001b[0m\u001b[1;33m,\u001b[0m \u001b[0msample_weight\u001b[0m\u001b[1;33m,\u001b[0m \u001b[0msolver_type\u001b[0m\u001b[1;33m,\u001b[0m \u001b[0mkernel\u001b[0m\u001b[1;33m,\u001b[0m \u001b[0mrandom_seed\u001b[0m\u001b[1;33m=\u001b[0m\u001b[0mseed\u001b[0m\u001b[1;33m)\u001b[0m\u001b[1;33m\u001b[0m\u001b[0m\n\u001b[0m\u001b[0;32m    188\u001b[0m         \u001b[1;31m# see comment on the other call to np.iinfo in this file\u001b[0m\u001b[1;33m\u001b[0m\u001b[1;33m\u001b[0m\u001b[0m\n\u001b[0;32m    189\u001b[0m \u001b[1;33m\u001b[0m\u001b[0m\n",
      "\u001b[1;32mc:\\python\\python35\\lib\\site-packages\\sklearn\\svm\\base.py\u001b[0m in \u001b[0;36m_dense_fit\u001b[1;34m(self, X, y, sample_weight, solver_type, kernel, random_seed)\u001b[0m\n\u001b[0;32m    252\u001b[0m                 \u001b[0mcache_size\u001b[0m\u001b[1;33m=\u001b[0m\u001b[0mself\u001b[0m\u001b[1;33m.\u001b[0m\u001b[0mcache_size\u001b[0m\u001b[1;33m,\u001b[0m \u001b[0mcoef0\u001b[0m\u001b[1;33m=\u001b[0m\u001b[0mself\u001b[0m\u001b[1;33m.\u001b[0m\u001b[0mcoef0\u001b[0m\u001b[1;33m,\u001b[0m\u001b[1;33m\u001b[0m\u001b[0m\n\u001b[0;32m    253\u001b[0m                 \u001b[0mgamma\u001b[0m\u001b[1;33m=\u001b[0m\u001b[0mself\u001b[0m\u001b[1;33m.\u001b[0m\u001b[0m_gamma\u001b[0m\u001b[1;33m,\u001b[0m \u001b[0mepsilon\u001b[0m\u001b[1;33m=\u001b[0m\u001b[0mself\u001b[0m\u001b[1;33m.\u001b[0m\u001b[0mepsilon\u001b[0m\u001b[1;33m,\u001b[0m\u001b[1;33m\u001b[0m\u001b[0m\n\u001b[1;32m--> 254\u001b[1;33m                 max_iter=self.max_iter, random_seed=random_seed)\n\u001b[0m\u001b[0;32m    255\u001b[0m \u001b[1;33m\u001b[0m\u001b[0m\n\u001b[0;32m    256\u001b[0m         \u001b[0mself\u001b[0m\u001b[1;33m.\u001b[0m\u001b[0m_warn_from_fit_status\u001b[0m\u001b[1;33m(\u001b[0m\u001b[1;33m)\u001b[0m\u001b[1;33m\u001b[0m\u001b[0m\n",
      "\u001b[1;31mKeyboardInterrupt\u001b[0m: "
     ]
    }
   ],
   "source": [
    "mutation_predictions = {}\n",
    "for k in range(6,9):\n",
    "    mutation_file = pd.read_csv(\"mutated-kmerized-datasets/7kmerized.mutated.0.{}.csv\".format(k))\n",
    "    mutation_file = mutation_file.drop([\"mutated nucleotide\"], 1).dropna(axis=0)\n",
    "    predictions = find_predictions(k, mutation_file)\n",
    "    mutation_predictions[str(k)] = predictions\n",
    "    print(k)"
   ]
  },
  {
   "cell_type": "markdown",
   "metadata": {},
   "source": [
    "### Storing The Scores"
   ]
  },
  {
   "cell_type": "code",
   "execution_count": 4,
   "metadata": {
    "colab": {},
    "colab_type": "code",
    "id": "Yxbn-Pg4wKiL"
   },
   "outputs": [],
   "source": [
    "with open('mutation_predictions6.db','wb') as file:\n",
    "    pickle.dump(mutation_predictions, file)"
   ]
  },
  {
   "cell_type": "code",
   "execution_count": null,
   "metadata": {},
   "outputs": [],
   "source": []
  }
 ],
 "metadata": {
  "anaconda-cloud": {},
  "colab": {
   "collapsed_sections": [],
   "name": "taxonomies_hierarchical.ipynb",
   "provenance": []
  },
  "kernelspec": {
   "display_name": "Python 3",
   "language": "python",
   "name": "python3"
  },
  "language_info": {
   "codemirror_mode": {
    "name": "ipython",
    "version": 3
   },
   "file_extension": ".py",
   "mimetype": "text/x-python",
   "name": "python",
   "nbconvert_exporter": "python",
   "pygments_lexer": "ipython3",
   "version": "3.5.3"
  }
 },
 "nbformat": 4,
 "nbformat_minor": 1
}
