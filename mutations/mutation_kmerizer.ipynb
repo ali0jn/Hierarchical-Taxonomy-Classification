{
 "cells": [
  {
   "cell_type": "code",
   "execution_count": 1,
   "metadata": {},
   "outputs": [],
   "source": [
    "import pandas as pd\n",
    "import numpy as np\n",
    "import csv"
   ]
  },
  {
   "cell_type": "code",
   "execution_count": 2,
   "metadata": {},
   "outputs": [],
   "source": [
    "res = []\n",
    "def printAllKLength(set, k):   \n",
    "    n = len(set)\n",
    "    printAllKLengthRec(set, \"\", n, k)\n",
    "    \n",
    "\n",
    "def printAllKLengthRec(set, prefix, n, k): \n",
    "    if (k == 0) :\n",
    "        res.append(prefix)\n",
    "        return\n",
    "  \n",
    "    for i in range(n):\n",
    "        newPrefix = prefix + set[i]\n",
    "        printAllKLengthRec(set, newPrefix, n, k - 1)\n",
    "\n",
    "printAllKLength(['A', 'C', 'G', 'T'], 7)\n",
    "k7_combs = res"
   ]
  },
  {
   "cell_type": "code",
   "execution_count": 5,
   "metadata": {},
   "outputs": [],
   "source": [
    "def kmerize(file, ratio, k, data):\n",
    "    csv_out = open(str(k)+'kmerized.mutated.' + ratio + '.csv', 'w', newline='')\n",
    "    writer = csv.writer(csv_out, delimiter=',')\n",
    "    hasHeader = False\n",
    "    with open(file) as f:\n",
    "        f = f.readlines()\n",
    "        for line in range(1, len(f)):\n",
    "            feature_dict = {}\n",
    "            tokens = f[line].split(',')\n",
    "            seq = tokens[0].strip()[1:-1].strip()\n",
    "            class_ = tokens[1].strip()\n",
    "            genus = tokens[2][1:-3].strip()\n",
    "            \n",
    "            for i in range(len(seq)-k+1):\n",
    "                kmer = seq[i:i+k]\n",
    "                if '-' in kmer or 'N' in kmer:\n",
    "                    continue\n",
    "                elif kmer not in feature_dict:\n",
    "                    feature_dict[kmer] = 1\n",
    "                else:\n",
    "                    feature_dict[kmer] += 1\n",
    "            \n",
    "            for key in data:\n",
    "                if key not in feature_dict:\n",
    "                    feature_dict[key] = 0\n",
    "                    \n",
    "            if not hasHeader:\n",
    "                sorted_features = list(feature_dict.keys())\n",
    "                sorted_features.sort()\n",
    "                sorted_features = ['mutated nucleotide', 'class', 'genus name'] + sorted_features\n",
    "                writer.writerow(sorted_features)\n",
    "                hasHeader = True\n",
    "                \n",
    "            feature_dict = dict(sorted(feature_dict.items()))\n",
    "            counter_list = list(feature_dict.values())\n",
    "            counter_list = [seq, class_, genus] + counter_list\n",
    "            writer.writerow(counter_list)                    \n",
    "    csv_out.close()"
   ]
  },
  {
   "cell_type": "code",
   "execution_count": 6,
   "metadata": {},
   "outputs": [],
   "source": [
    "for i in range(1, 11):\n",
    "    kmerize('mutated_raw_datasets/mutated.' + str(i/10) + '.csv', str(i/10), 7, k7_combs)"
   ]
  },
  {
   "cell_type": "code",
   "execution_count": null,
   "metadata": {},
   "outputs": [],
   "source": []
  }
 ],
 "metadata": {
  "kernelspec": {
   "display_name": "Python 3",
   "language": "python",
   "name": "python3"
  },
  "language_info": {
   "codemirror_mode": {
    "name": "ipython",
    "version": 3
   },
   "file_extension": ".py",
   "mimetype": "text/x-python",
   "name": "python",
   "nbconvert_exporter": "python",
   "pygments_lexer": "ipython3",
   "version": "3.7.4"
  }
 },
 "nbformat": 4,
 "nbformat_minor": 4
}
