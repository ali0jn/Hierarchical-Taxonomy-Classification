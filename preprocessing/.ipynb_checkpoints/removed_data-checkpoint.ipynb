{
 "cells": [
  {
   "cell_type": "code",
   "execution_count": 28,
   "metadata": {},
   "outputs": [],
   "source": [
    "import numpy as np\n",
    "import pandas as pd\n",
    "import matplotlib.pyplot as plt\n",
    "import statistics"
   ]
  },
  {
   "cell_type": "code",
   "execution_count": 32,
   "metadata": {},
   "outputs": [],
   "source": [
    "def plot_dist(df, class_, filename):\n",
    "    dist = df['genus name'].value_counts(normalize=True, sort=False)\n",
    "    print('Max: ' + str(max(list(dist))), 'Min: ' + str(min(list(dist))), 'Avg: ' + str(statistics.mean(list(dist))))\n",
    "    fig = plt.figure(figsize=(3.5, 2))\n",
    "    ax = plt.axes()\n",
    "    ax.set_facecolor('white')\n",
    "    plt.bar(list(range(len(dist))), dist, width=1.5, color='gray')\n",
    "    plt.xticks([])\n",
    "    plt.yticks(fontsize=5)\n",
    "    plt.xlabel('')\n",
    "    plt.ylabel('')\n",
    "    plt.title(class_ + ' Removed Samples - Species Distribution', fontsize=10, pad=20)\n",
    "    plt.savefig(filename, dpi=300, bbox_inches='tight')\n",
    "    plt.show()"
   ]
  },
  {
   "cell_type": "code",
   "execution_count": 33,
   "metadata": {},
   "outputs": [
    {
     "name": "stdout",
     "output_type": "stream",
     "text": [
      "Max: 0.015080113100848256 Min: 0.000942507068803016 Avg: 0.001923076923076923\n"
     ]
    },
    {
     "data": {
      "image/png": "[encoded data removed]",
      "text/plain": [
       "<Figure size 252x144 with 1 Axes>"
      ]
     },
     "metadata": {
      "needs_background": "light"
     },
     "output_type": "display_data"
    },
    {
     "name": "stdout",
     "output_type": "stream",
     "text": [
      "Total removed samples:  1061\n"
     ]
    }
   ],
   "source": [
    "df = pd.read_csv('1kmerized.Aves.csv')\n",
    "plot_dist(df, 'Aves', 'aves_removed_dist')\n",
    "print('Total removed samples: ', len(df.index))"
   ]
  },
  {
   "cell_type": "code",
   "execution_count": 34,
   "metadata": {},
   "outputs": [
    {
     "name": "stdout",
     "output_type": "stream",
     "text": [
      "Max: 0.3 Min: 0.1 Avg: 0.16666666666666669\n"
     ]
    },
    {
     "data": {
      "image/png": "[encoded data removed]",
      "text/plain": [
       "<Figure size 252x144 with 1 Axes>"
      ]
     },
     "metadata": {
      "needs_background": "light"
     },
     "output_type": "display_data"
    },
    {
     "name": "stdout",
     "output_type": "stream",
     "text": [
      "Total removed samples:  10\n"
     ]
    }
   ],
   "source": [
    "df = pd.read_csv('1kmerized.Chiroptera.csv')\n",
    "plot_dist(df, 'Chiroptera', 'chirop_removed_dist')\n",
    "print('Total removed samples: ', len(df.index))"
   ]
  },
  {
   "cell_type": "code",
   "execution_count": 35,
   "metadata": {},
   "outputs": [
    {
     "name": "stdout",
     "output_type": "stream",
     "text": [
      "Max: 0.13347022587268995 Min: 0.002053388090349076 Avg: 0.02564102564102564\n"
     ]
    },
    {
     "data": {
      "image/png": "[encoded data removed]",
      "text/plain": [
       "<Figure size 252x144 with 1 Axes>"
      ]
     },
     "metadata": {
      "needs_background": "light"
     },
     "output_type": "display_data"
    },
    {
     "name": "stdout",
     "output_type": "stream",
     "text": [
      "Total removed samples:  487\n"
     ]
    }
   ],
   "source": [
    "df = pd.read_csv('1kmerized.Rodentia.csv')\n",
    "plot_dist(df, 'Rodentia', 'rodentia_removed_dist')\n",
    "print('Total removed samples: ', len(df.index))"
   ]
  },
  {
   "cell_type": "code",
   "execution_count": null,
   "metadata": {},
   "outputs": [],
   "source": []
  }
 ],
 "metadata": {
  "kernelspec": {
   "display_name": "Python 3",
   "language": "python",
   "name": "python3"
  },
  "language_info": {
   "codemirror_mode": {
    "name": "ipython",
    "version": 3
   },
   "file_extension": ".py",
   "mimetype": "text/x-python",
   "name": "python",
   "nbconvert_exporter": "python",
   "pygments_lexer": "ipython3",
   "version": "3.5.2"
  }
 },
 "nbformat": 4,
 "nbformat_minor": 4
}
