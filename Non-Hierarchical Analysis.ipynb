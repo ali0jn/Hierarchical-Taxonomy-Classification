{
 "cells": [
  {
   "cell_type": "code",
   "execution_count": null,
   "metadata": {},
   "outputs": [],
   "source": [
    "import pandas as pd\n",
    "import numpy as np\n",
    "import warnings\n",
    "warnings.simplefilter('ignore')"
   ]
  },
  {
   "cell_type": "markdown",
   "metadata": {},
   "source": [
    "# Data Preparation "
   ]
  },
  {
   "cell_type": "markdown",
   "metadata": {},
   "source": [
    "## Reading datasets"
   ]
  },
  {
   "cell_type": "code",
   "execution_count": null,
   "metadata": {},
   "outputs": [],
   "source": [
    "def read_csv(class_):\n",
    "    dataFrames = []\n",
    "    for i in range(1, 8):\n",
    "        df = pd.read_csv('datasets/' + class_ + '.Cleaned.k' + str(i) + '.csv')\n",
    "        dataFrames.append(df)\n",
    "    return dataFrames"
   ]
  },
  {
   "cell_type": "markdown",
   "metadata": {},
   "source": [
    "### Chiroptera Class: k=1, 2, ...., 7"
   ]
  },
  {
   "cell_type": "code",
   "execution_count": null,
   "metadata": {},
   "outputs": [],
   "source": [
    "chirop_dfs = read_csv('Chiroptera')"
   ]
  },
  {
   "cell_type": "markdown",
   "metadata": {},
   "source": [
    "### Rodentia Class: k=1, 2, ...., 7"
   ]
  },
  {
   "cell_type": "code",
   "execution_count": null,
   "metadata": {},
   "outputs": [],
   "source": [
    "rodent_dfs = read_csv('Rodentia')"
   ]
  },
  {
   "cell_type": "markdown",
   "metadata": {},
   "source": [
    "### Aves Class: k=1, 2, ...., 7"
   ]
  },
  {
   "cell_type": "code",
   "execution_count": null,
   "metadata": {},
   "outputs": [],
   "source": [
    "aves_dfs = read_csv('Aves')"
   ]
  },
  {
   "cell_type": "markdown",
   "metadata": {},
   "source": [
    "# Learning Models"
   ]
  },
  {
   "cell_type": "code",
   "execution_count": null,
   "metadata": {},
   "outputs": [],
   "source": [
    "from sklearn.preprocessing import StandardScaler\n",
    "from sklearn.svm import SVC\n",
    "from sklearn.ensemble RandomForestClassifier\n",
    "from sklearn.model_selection import StratifiedKFold, train_test_split\n",
    "from sklearn.metrics import f1_score"
   ]
  },
  {
   "cell_type": "code",
   "execution_count": null,
   "metadata": {},
   "outputs": [],
   "source": [
    "def get_f1_scores(X, y):\n",
    "    skf = StratifiedKFold(n_splits=5, random_state=0, shuffle=True)\n",
    "    f1_scores = {'svmrad test': [], 'svmrad train': [], 'svmlin test': [], 'svmlin train': [], 'rf test': [], 'rf train': []}\n",
    "    for train_index, test_index in skf.split(X, y):\n",
    "        X_train, X_test = X.iloc[train_index, :], X.iloc[test_index, :]\n",
    "        y_train, y_test = y.iloc[train_index, :], y.iloc[test_index, :]\n",
    "        svm_rad = SVC(gamma=1/len(X_train.index), kernel='rbf')\n",
    "        svm_lin = SVC(gamma=1/len(X_train.index), kernel='linear')\n",
    "        rf = RandomForestClassifier(n_estimators=10)\n",
    "        svm_rad.fit(X_train, y_train)\n",
    "        svm_lin.fit(X_train, y_train)\n",
    "        rf.fit(X_train, y_train)\n",
    "        y_pred_rad_test = svm_rad.predict(X_test)\n",
    "        y_pred_rad_train = svm_rad.predict(X_train)\n",
    "        y_pred_lin_test = svm_lin.predict(X_test)\n",
    "        y_pred_lin_train = svm_lin.predict(X_train)\n",
    "        y_pred_rf_test = rf.predict(X_test)\n",
    "        y_pred_rf_train = rf.predict(X_train)\n",
    "        f1_scores.setdefault()\n",
    "        f1_scores['svmrad test'].append(f1_score(y_test, y_pred_rad_test, average='micro'))\n",
    "        f1_scores['svmrad train'].append(f1_score(y_test, y_pred_rad_train, average='micro'))\n",
    "        f1_scores['svmlin test'].append(f1_score(y_test, y_pred_lin_test, average='micro'))\n",
    "        f1_scores['svmlin train'].append(f1_score(y_test, y_pred_lin_train, average='micro'))\n",
    "        f1_scores['rf test'].append(f1_scores(y_test, y_pred_rf_test, average='micro'))\n",
    "        f1_scores['rf train'].append(f1_scores(y_test, y_pred_rf_train, average='micro'))\n",
    "    return f1_scores        "
   ]
  },
  {
   "cell_type": "code",
   "execution_count": null,
   "metadata": {},
   "outputs": [],
   "source": [
    "def main(class_):\n",
    "    clfs_acc = {}\n",
    "    for df in class_:\n",
    "        X = df.iloc"
   ]
  }
 ],
 "metadata": {
  "kernelspec": {
   "display_name": "Python 3",
   "language": "python",
   "name": "python3"
  },
  "language_info": {
   "codemirror_mode": {
    "name": "ipython",
    "version": 3
   },
   "file_extension": ".py",
   "mimetype": "text/x-python",
   "name": "python",
   "nbconvert_exporter": "python",
   "pygments_lexer": "ipython3",
   "version": "3.7.4"
  }
 },
 "nbformat": 4,
 "nbformat_minor": 2
}
